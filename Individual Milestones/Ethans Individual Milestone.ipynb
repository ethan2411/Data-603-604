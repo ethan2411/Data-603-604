{
 "cells": [
  {
   "cell_type": "markdown",
   "metadata": {},
   "source": [
    "# Individual Assignment"
   ]
  },
  {
   "cell_type": "code",
   "execution_count": 1,
   "metadata": {},
   "outputs": [
    {
     "data": {
      "text/html": [
       "<div>\n",
       "<style scoped>\n",
       "    .dataframe tbody tr th:only-of-type {\n",
       "        vertical-align: middle;\n",
       "    }\n",
       "\n",
       "    .dataframe tbody tr th {\n",
       "        vertical-align: top;\n",
       "    }\n",
       "\n",
       "    .dataframe thead th {\n",
       "        text-align: right;\n",
       "    }\n",
       "</style>\n",
       "<table border=\"1\" class=\"dataframe\">\n",
       "  <thead>\n",
       "    <tr style=\"text-align: right;\">\n",
       "      <th></th>\n",
       "      <th>Sector</th>\n",
       "      <th>Community Name</th>\n",
       "      <th>Category</th>\n",
       "      <th>Crime Count</th>\n",
       "      <th>Date</th>\n",
       "      <th>Year</th>\n",
       "      <th>Month</th>\n",
       "      <th>ID</th>\n",
       "      <th>Resident Count</th>\n",
       "      <th>Community Center Point</th>\n",
       "      <th>Calgary Communities</th>\n",
       "      <th>Ward Boundaries 2013-2017</th>\n",
       "      <th>Ward Boundaries</th>\n",
       "      <th>City Quadrants</th>\n",
       "    </tr>\n",
       "  </thead>\n",
       "  <tbody>\n",
       "    <tr>\n",
       "      <th>0</th>\n",
       "      <td>NaN</td>\n",
       "      <td>14V</td>\n",
       "      <td>Break &amp; Enter - Commercial</td>\n",
       "      <td>1</td>\n",
       "      <td>2019/04</td>\n",
       "      <td>2019</td>\n",
       "      <td>APR</td>\n",
       "      <td>2019-APR-14V-Break &amp; Enter - Commercial</td>\n",
       "      <td>NaN</td>\n",
       "      <td>NaN</td>\n",
       "      <td>NaN</td>\n",
       "      <td>NaN</td>\n",
       "      <td>NaN</td>\n",
       "      <td>NaN</td>\n",
       "    </tr>\n",
       "    <tr>\n",
       "      <th>1</th>\n",
       "      <td>NaN</td>\n",
       "      <td>02A</td>\n",
       "      <td>Assault (Non-domestic)</td>\n",
       "      <td>1</td>\n",
       "      <td>2019/12</td>\n",
       "      <td>2019</td>\n",
       "      <td>DEC</td>\n",
       "      <td>2019-DEC-02A-Assault (Non-domestic)</td>\n",
       "      <td>NaN</td>\n",
       "      <td>NaN</td>\n",
       "      <td>NaN</td>\n",
       "      <td>NaN</td>\n",
       "      <td>NaN</td>\n",
       "      <td>NaN</td>\n",
       "    </tr>\n",
       "    <tr>\n",
       "      <th>2</th>\n",
       "      <td>NaN</td>\n",
       "      <td>10A</td>\n",
       "      <td>Theft FROM Vehicle</td>\n",
       "      <td>1</td>\n",
       "      <td>2019/01</td>\n",
       "      <td>2019</td>\n",
       "      <td>JAN</td>\n",
       "      <td>2019-JAN-10A-Theft FROM Vehicle</td>\n",
       "      <td>NaN</td>\n",
       "      <td>NaN</td>\n",
       "      <td>NaN</td>\n",
       "      <td>NaN</td>\n",
       "      <td>NaN</td>\n",
       "      <td>NaN</td>\n",
       "    </tr>\n",
       "    <tr>\n",
       "      <th>3</th>\n",
       "      <td>NaN</td>\n",
       "      <td>10C</td>\n",
       "      <td>Theft OF Vehicle</td>\n",
       "      <td>1</td>\n",
       "      <td>2019/11</td>\n",
       "      <td>2019</td>\n",
       "      <td>NOV</td>\n",
       "      <td>2019-NOV-10C-Theft OF Vehicle</td>\n",
       "      <td>NaN</td>\n",
       "      <td>NaN</td>\n",
       "      <td>NaN</td>\n",
       "      <td>NaN</td>\n",
       "      <td>NaN</td>\n",
       "      <td>NaN</td>\n",
       "    </tr>\n",
       "    <tr>\n",
       "      <th>4</th>\n",
       "      <td>NaN</td>\n",
       "      <td>14V</td>\n",
       "      <td>Theft FROM Vehicle</td>\n",
       "      <td>1</td>\n",
       "      <td>2019/01</td>\n",
       "      <td>2019</td>\n",
       "      <td>JAN</td>\n",
       "      <td>2019-JAN-14V-Theft FROM Vehicle</td>\n",
       "      <td>NaN</td>\n",
       "      <td>NaN</td>\n",
       "      <td>NaN</td>\n",
       "      <td>NaN</td>\n",
       "      <td>NaN</td>\n",
       "      <td>NaN</td>\n",
       "    </tr>\n",
       "  </tbody>\n",
       "</table>\n",
       "</div>"
      ],
      "text/plain": [
       "  Sector Community Name                    Category  Crime Count     Date  \\\n",
       "0    NaN            14V  Break & Enter - Commercial            1  2019/04   \n",
       "1    NaN            02A      Assault (Non-domestic)            1  2019/12   \n",
       "2    NaN            10A          Theft FROM Vehicle            1  2019/01   \n",
       "3    NaN            10C            Theft OF Vehicle            1  2019/11   \n",
       "4    NaN            14V          Theft FROM Vehicle            1  2019/01   \n",
       "\n",
       "   Year Month                                       ID  Resident Count  \\\n",
       "0  2019   APR  2019-APR-14V-Break & Enter - Commercial             NaN   \n",
       "1  2019   DEC      2019-DEC-02A-Assault (Non-domestic)             NaN   \n",
       "2  2019   JAN          2019-JAN-10A-Theft FROM Vehicle             NaN   \n",
       "3  2019   NOV            2019-NOV-10C-Theft OF Vehicle             NaN   \n",
       "4  2019   JAN          2019-JAN-14V-Theft FROM Vehicle             NaN   \n",
       "\n",
       "  Community Center Point  Calgary Communities  Ward Boundaries 2013-2017  \\\n",
       "0                    NaN                  NaN                        NaN   \n",
       "1                    NaN                  NaN                        NaN   \n",
       "2                    NaN                  NaN                        NaN   \n",
       "3                    NaN                  NaN                        NaN   \n",
       "4                    NaN                  NaN                        NaN   \n",
       "\n",
       "   Ward Boundaries  City Quadrants  \n",
       "0              NaN             NaN  \n",
       "1              NaN             NaN  \n",
       "2              NaN             NaN  \n",
       "3              NaN             NaN  \n",
       "4              NaN             NaN  "
      ]
     },
     "execution_count": 1,
     "metadata": {},
     "output_type": "execute_result"
    }
   ],
   "source": [
    "import pandas as pd\n",
    "\n",
    "crimestats = pd.read_csv(\"https://raw.githubusercontent.com/ethan2411/Data-603-604/main/604%20Data/Community_Crime_Statistics.csv\")\n",
    "crimestats.head(5)"
   ]
  },
  {
   "cell_type": "code",
   "execution_count": 29,
   "metadata": {},
   "outputs": [
    {
     "name": "stdout",
     "output_type": "stream",
     "text": [
      "11857\n",
      "Sector                          70\n",
      "Community Name                   0\n",
      "Category                         0\n",
      "Crime Count                      0\n",
      "Date                             0\n",
      "Year                             0\n",
      "Month                            0\n",
      "ID                               0\n",
      "Resident Count               11857\n",
      "Community Center Point          70\n",
      "Calgary Communities             70\n",
      "Ward Boundaries 2013-2017       70\n",
      "Ward Boundaries                 70\n",
      "City Quadrants                  70\n",
      "dtype: int64\n"
     ]
    }
   ],
   "source": [
    "#print the sum of NaN values in each column, maybe I can just drop some of the columns\n",
    "print(len(crimestats))\n",
    "print(crimestats.isna().sum())\n",
    "#Don't include Resident Count in database, theyre all null"
   ]
  },
  {
   "cell_type": "markdown",
   "metadata": {},
   "source": [
    "### Connecting to database"
   ]
  },
  {
   "cell_type": "code",
   "execution_count": 2,
   "metadata": {},
   "outputs": [
    {
     "data": {
      "text/plain": [
       "<mysql.connector.connection.MySQLConnection at 0x20bf543ab30>"
      ]
     },
     "execution_count": 2,
     "metadata": {},
     "output_type": "execute_result"
    }
   ],
   "source": [
    "#in cmd do mysql.connector or mysql-connector-python\n",
    "import mysql.connector\n",
    "from mysql.connector import errorcode\n",
    "\n",
    "filepath = \"C:/Users/ethan/Downloads/Data 604/Term Project/password.txt\"\n",
    "\n",
    "with open(filepath) as f:\n",
    "    passw = f.read()\n",
    "    \n",
    "# attempt a connection\n",
    "myconnection = mysql.connector.connect(user='ethan_scott', \n",
    "                                       password=passw,\n",
    "                                       host='datasciencedb2.ucalgary.ca', \n",
    "                                       database='ethan_scott',\n",
    "                                       allow_local_infile=True)\n",
    "myconnection"
   ]
  },
  {
   "cell_type": "markdown",
   "metadata": {},
   "source": [
    "### Creating table in SQL"
   ]
  },
  {
   "cell_type": "code",
   "execution_count": 31,
   "metadata": {},
   "outputs": [
    {
     "name": "stdout",
     "output_type": "stream",
     "text": [
      "table created successfully!\n"
     ]
    },
    {
     "data": {
      "text/plain": [
       "True"
      ]
     },
     "execution_count": 31,
     "metadata": {},
     "output_type": "execute_result"
    }
   ],
   "source": [
    "# CREATE TABLE STATEMENT\n",
    "create_statement = '''create table ethan_scott.crimestats (\n",
    "    Sector varchar(4),\n",
    "    CommunityName varchar(3) NOT NULL,\n",
    "    Category varchar(40),\n",
    "    CrimeCount int,\n",
    "    Date varchar (7),\n",
    "    Year varchar(4),\n",
    "    Month varchar(3),\n",
    "    ID varchar(100),\n",
    "    CommunityCenterPoint point,\n",
    "    CalgaryCommunities int,\n",
    "    WardBoundaries20132017 int,\n",
    "    WardBoundaries int,\n",
    "    CityQuadrants int\n",
    "    );'''\n",
    "\n",
    "# now we'll create a cursor and run our create statement\n",
    "create_cursor = myconnection.cursor()\n",
    "try:\n",
    "    create_cursor.execute(create_statement)\n",
    "except mysql.connector.Error as err:\n",
    "    if err.errno == errorcode.ER_TABLE_EXISTS_ERROR:\n",
    "        print(\"Ooops! We already have that table\")\n",
    "    else:\n",
    "        print(err.msg)\n",
    "else:\n",
    "    print(\"table created successfully!\")\n",
    "\n",
    "create_cursor.close()"
   ]
  },
  {
   "cell_type": "markdown",
   "metadata": {},
   "source": [
    "# Using Python to insert data\n",
    "\n",
    "Because we have already built a dataframe with data from our CSV, we are going to use this datafrarame by reading each line, and writing each line into its own insert command.\n",
    "\n",
    "How would you re-write the block of code below to make it more efficient?"
   ]
  },
  {
   "cell_type": "code",
   "execution_count": 32,
   "metadata": {
    "scrolled": true
   },
   "outputs": [
    {
     "ename": "ProgrammingError",
     "evalue": "1054 (42S22): Unknown column 'nan' in 'field list'",
     "output_type": "error",
     "traceback": [
      "\u001b[1;31m---------------------------------------------------------------------------\u001b[0m",
      "\u001b[1;31mProgrammingError\u001b[0m                          Traceback (most recent call last)",
      "\u001b[1;32mc:\\Users\\ethan\\Downloads\\Data 604\\Term Project\\Individual Milestone.ipynb Cell 9\u001b[0m line \u001b[0;36m1\n\u001b[0;32m      <a href='vscode-notebook-cell:/c%3A/Users/ethan/Downloads/Data%20604/Term%20Project/Individual%20Milestone.ipynb#X10sZmlsZQ%3D%3D?line=6'>7</a>\u001b[0m \u001b[39mfor\u001b[39;00m i, currentRow \u001b[39min\u001b[39;00m crimestats\u001b[39m.\u001b[39miterrows():\n\u001b[0;32m      <a href='vscode-notebook-cell:/c%3A/Users/ethan/Downloads/Data%20604/Term%20Project/Individual%20Milestone.ipynb#X10sZmlsZQ%3D%3D?line=7'>8</a>\u001b[0m     \u001b[39m#print (tuple(currentRow))\u001b[39;00m\n\u001b[0;32m      <a href='vscode-notebook-cell:/c%3A/Users/ethan/Downloads/Data%20604/Term%20Project/Individual%20Milestone.ipynb#X10sZmlsZQ%3D%3D?line=8'>9</a>\u001b[0m     insertCommand \u001b[39m=\u001b[39m \u001b[39m\"\u001b[39m\u001b[39mINSERT INTO `crimestats` (`\u001b[39m\u001b[39m\"\u001b[39m \u001b[39m+\u001b[39m columnString \u001b[39m+\u001b[39m \u001b[39m\"\u001b[39m\u001b[39m`) VALUES (\u001b[39m\u001b[39m\"\u001b[39m \u001b[39m+\u001b[39m \u001b[39m\"\u001b[39m\u001b[39m%s\u001b[39;00m\u001b[39m,\u001b[39m\u001b[39m\"\u001b[39m\u001b[39m*\u001b[39m(\u001b[39mlen\u001b[39m(currentRow)\u001b[39m-\u001b[39m\u001b[39m1\u001b[39m) \u001b[39m+\u001b[39m \u001b[39m\"\u001b[39m\u001b[39m%s\u001b[39;00m\u001b[39m)\u001b[39m\u001b[39m\"\u001b[39m\n\u001b[1;32m---> <a href='vscode-notebook-cell:/c%3A/Users/ethan/Downloads/Data%20604/Term%20Project/Individual%20Milestone.ipynb#X10sZmlsZQ%3D%3D?line=9'>10</a>\u001b[0m     insertCursor\u001b[39m.\u001b[39;49mexecute(insertCommand, \u001b[39mtuple\u001b[39;49m(currentRow))\n\u001b[0;32m     <a href='vscode-notebook-cell:/c%3A/Users/ethan/Downloads/Data%20604/Term%20Project/Individual%20Milestone.ipynb#X10sZmlsZQ%3D%3D?line=11'>12</a>\u001b[0m myconnection\u001b[39m.\u001b[39mcommit()\n\u001b[0;32m     <a href='vscode-notebook-cell:/c%3A/Users/ethan/Downloads/Data%20604/Term%20Project/Individual%20Milestone.ipynb#X10sZmlsZQ%3D%3D?line=13'>14</a>\u001b[0m insertCursor\u001b[39m.\u001b[39mclose()\n",
      "File \u001b[1;32m~\\AppData\\Local\\Packages\\PythonSoftwareFoundation.Python.3.10_qbz5n2kfra8p0\\LocalCache\\local-packages\\Python310\\site-packages\\mysql\\connector\\cursor.py:551\u001b[0m, in \u001b[0;36mMySQLCursor.execute\u001b[1;34m(self, operation, params, multi)\u001b[0m\n\u001b[0;32m    549\u001b[0m \u001b[39melse\u001b[39;00m:\n\u001b[0;32m    550\u001b[0m     \u001b[39mtry\u001b[39;00m:\n\u001b[1;32m--> 551\u001b[0m         \u001b[39mself\u001b[39m\u001b[39m.\u001b[39m_handle_result(\u001b[39mself\u001b[39;49m\u001b[39m.\u001b[39;49m_connection\u001b[39m.\u001b[39;49mcmd_query(stmt))\n\u001b[0;32m    552\u001b[0m     \u001b[39mexcept\u001b[39;00m errors\u001b[39m.\u001b[39mInterfaceError:\n\u001b[0;32m    553\u001b[0m         \u001b[39mif\u001b[39;00m \u001b[39mself\u001b[39m\u001b[39m.\u001b[39m_connection\u001b[39m.\u001b[39m_have_next_result:  \u001b[39m# pylint: disable=W0212\u001b[39;00m\n",
      "File \u001b[1;32m~\\AppData\\Local\\Packages\\PythonSoftwareFoundation.Python.3.10_qbz5n2kfra8p0\\LocalCache\\local-packages\\Python310\\site-packages\\mysql\\connector\\connection.py:490\u001b[0m, in \u001b[0;36mMySQLConnection.cmd_query\u001b[1;34m(self, query, raw, buffered, raw_as_string)\u001b[0m\n\u001b[0;32m    488\u001b[0m \u001b[39mif\u001b[39;00m \u001b[39mnot\u001b[39;00m \u001b[39misinstance\u001b[39m(query, \u001b[39mbytes\u001b[39m):\n\u001b[0;32m    489\u001b[0m     query \u001b[39m=\u001b[39m query\u001b[39m.\u001b[39mencode(\u001b[39m'\u001b[39m\u001b[39mutf-8\u001b[39m\u001b[39m'\u001b[39m)\n\u001b[1;32m--> 490\u001b[0m result \u001b[39m=\u001b[39m \u001b[39mself\u001b[39;49m\u001b[39m.\u001b[39;49m_handle_result(\u001b[39mself\u001b[39;49m\u001b[39m.\u001b[39;49m_send_cmd(ServerCmd\u001b[39m.\u001b[39;49mQUERY, query))\n\u001b[0;32m    492\u001b[0m \u001b[39mif\u001b[39;00m \u001b[39mself\u001b[39m\u001b[39m.\u001b[39m_have_next_result:\n\u001b[0;32m    493\u001b[0m     \u001b[39mraise\u001b[39;00m errors\u001b[39m.\u001b[39mInterfaceError(\n\u001b[0;32m    494\u001b[0m         \u001b[39m'\u001b[39m\u001b[39mUse cmd_query_iter for statements with multiple queries.\u001b[39m\u001b[39m'\u001b[39m)\n",
      "File \u001b[1;32m~\\AppData\\Local\\Packages\\PythonSoftwareFoundation.Python.3.10_qbz5n2kfra8p0\\LocalCache\\local-packages\\Python310\\site-packages\\mysql\\connector\\connection.py:395\u001b[0m, in \u001b[0;36mMySQLConnection._handle_result\u001b[1;34m(self, packet)\u001b[0m\n\u001b[0;32m    393\u001b[0m     \u001b[39mreturn\u001b[39;00m \u001b[39mself\u001b[39m\u001b[39m.\u001b[39m_handle_eof(packet)\n\u001b[0;32m    394\u001b[0m \u001b[39melif\u001b[39;00m packet[\u001b[39m4\u001b[39m] \u001b[39m==\u001b[39m \u001b[39m255\u001b[39m:\n\u001b[1;32m--> 395\u001b[0m     \u001b[39mraise\u001b[39;00m errors\u001b[39m.\u001b[39mget_exception(packet)\n\u001b[0;32m    397\u001b[0m \u001b[39m# We have a text result set\u001b[39;00m\n\u001b[0;32m    398\u001b[0m column_count \u001b[39m=\u001b[39m \u001b[39mself\u001b[39m\u001b[39m.\u001b[39m_protocol\u001b[39m.\u001b[39mparse_column_count(packet)\n",
      "\u001b[1;31mProgrammingError\u001b[0m: 1054 (42S22): Unknown column 'nan' in 'field list'"
     ]
    }
   ],
   "source": [
    "insertCursor = myconnection.cursor()\n",
    "\n",
    "columnString = \"`,`\".join([str(currentColumn) for currentColumn in crimestats.columns.tolist()])\n",
    "#print (columnString)\n",
    "\n",
    "# inserting rows one by one from the DataFrame is sufficient for now\n",
    "for i, currentRow in crimestats.iterrows():\n",
    "    #print (tuple(currentRow))\n",
    "    insertCommand = \"INSERT INTO `crimestats` (`\" + columnString + \"`) VALUES (\" + \"%s,\"*(len(currentRow)-1) + \"%s)\"\n",
    "    insertCursor.execute(insertCommand, tuple(currentRow))\n",
    "    \n",
    "myconnection.commit()\n",
    "\n",
    "insertCursor.close()"
   ]
  },
  {
   "cell_type": "markdown",
   "metadata": {},
   "source": [
    "## Deleting tables"
   ]
  },
  {
   "cell_type": "code",
   "execution_count": 30,
   "metadata": {},
   "outputs": [
    {
     "data": {
      "text/plain": [
       "True"
      ]
     },
     "execution_count": 30,
     "metadata": {},
     "output_type": "execute_result"
    }
   ],
   "source": [
    "#Use the DELETE statement without specifying a WHERE clause\n",
    "# If the statement executes, the table continues to exist (still can insert rows into it), but it's empty. \n",
    "# All existing views and authorizations on the table remain intact when using DELETE.\n",
    "\n",
    "# uncomment if you would like to remove table\n",
    "deletecursor = myconnection.cursor()\n",
    "# Warning - if you DROP the table it will be removed completely and it will need to be created from scratch\n",
    "sql = \"DROP TABLE IF EXISTS crimestats;\"\n",
    "#sql = \"DELETE FROM crimestats;\"\n",
    "deletecursor.execute(sql)\n",
    "deletecursor.close()"
   ]
  },
  {
   "cell_type": "markdown",
   "metadata": {},
   "source": [
    "# Using Python to retrieve data\n",
    "\n",
    "You can also use cursors to read data from a database table. It is helpful to specify what kind of result set you would like the cursor to return. Try each of the following for the second arguement:\n",
    "* `raw=True`\n",
    "* `dictionary=True`\n",
    "* `named_tuple=True`"
   ]
  },
  {
   "cell_type": "code",
   "execution_count": 31,
   "metadata": {},
   "outputs": [
    {
     "name": "stdout",
     "output_type": "stream",
     "text": [
      "{'library': 'W.R. Castell Central Library'}\n",
      "{'library': 'Alexander Calhoun Library'}\n",
      "{'library': 'Bowness Library'}\n",
      "{'library': 'Fish Creek Library'}\n",
      "{'library': 'Forest Lawn Library'}\n",
      "{'library': 'Glenmore Square Library'}\n",
      "{'library': 'Louise Riley Library'}\n",
      "{'library': 'Memorial Park Library'}\n",
      "{'library': 'Nose Hill Library'}\n",
      "{'library': 'Shawnessy Library'}\n",
      "{'library': 'Signal Hill Library'}\n",
      "{'library': 'Southwood Library'}\n",
      "{'library': 'Judith Umbach Library'}\n",
      "{'library': 'Village Square Library'}\n",
      "{'library': 'Crowfoot Library'}\n",
      "{'library': 'Country Hills Library'}\n",
      "{'library': 'Saddletowne Library'}\n",
      "{'library': 'Westbrook Library'}\n",
      "{'library': 'W.R. Castell Central Library'}\n",
      "{'library': 'Alexander Calhoun Library'}\n",
      "{'library': 'Bowness Library'}\n",
      "{'library': 'Fish Creek Library'}\n",
      "{'library': 'Forest Lawn Library'}\n",
      "{'library': 'Glenmore Square Library'}\n",
      "{'library': 'Louise Riley Library'}\n",
      "{'library': 'Memorial Park Library'}\n",
      "{'library': 'Nose Hill Library'}\n",
      "{'library': 'Shawnessy Library'}\n",
      "{'library': 'Signal Hill Library'}\n",
      "{'library': 'Southwood Library'}\n",
      "{'library': 'Judith Umbach Library'}\n",
      "{'library': 'Village Square Library'}\n",
      "{'library': 'Crowfoot Library'}\n",
      "{'library': 'Country Hills Library'}\n",
      "{'library': 'Saddletowne Library'}\n",
      "{'library': 'Westbrook Library'}\n",
      "{'library': 'W.R. Castell Central Library'}\n",
      "{'library': 'Alexander Calhoun Library'}\n",
      "{'library': 'Bowness Library'}\n",
      "{'library': 'Fish Creek Library'}\n",
      "{'library': 'Forest Lawn Library'}\n",
      "{'library': 'Glenmore Square Library'}\n",
      "{'library': 'Louise Riley Library'}\n",
      "{'library': 'Memorial Park Library'}\n",
      "{'library': 'Nose Hill Library'}\n",
      "{'library': 'Shawnessy Library'}\n",
      "{'library': 'Signal Hill Library'}\n",
      "{'library': 'Southwood Library'}\n",
      "{'library': 'Judith Umbach Library'}\n",
      "{'library': 'Village Square Library'}\n",
      "{'library': 'Crowfoot Library'}\n",
      "{'library': 'Country Hills Library'}\n",
      "{'library': 'Saddletowne Library'}\n",
      "{'library': 'Westbrook Library'}\n",
      "{'library': 'W.R. Castell Central Library'}\n",
      "{'library': 'Alexander Calhoun Library'}\n",
      "{'library': 'Bowness Library'}\n",
      "{'library': 'Fish Creek Library'}\n",
      "{'library': 'Forest Lawn Library'}\n",
      "{'library': 'Glenmore Square Library'}\n",
      "{'library': 'Louise Riley Library'}\n",
      "{'library': 'Memorial Park Library'}\n",
      "{'library': 'Nose Hill Library'}\n",
      "{'library': 'Shawnessy Library'}\n",
      "{'library': 'Signal Hill Library'}\n",
      "{'library': 'Southwood Library'}\n",
      "{'library': 'Judith Umbach Library'}\n",
      "{'library': 'Village Square Library'}\n",
      "{'library': 'Crowfoot Library'}\n",
      "{'library': 'Country Hills Library'}\n",
      "{'library': 'Saddletowne Library'}\n",
      "{'library': 'Westbrook Library'}\n",
      "{'library': 'W.R. Castell Central Library'}\n",
      "{'library': 'Alexander Calhoun Library'}\n",
      "{'library': 'Bowness Library'}\n",
      "{'library': 'Fish Creek Library'}\n",
      "{'library': 'Forest Lawn Library'}\n",
      "{'library': 'Glenmore Square Library'}\n",
      "{'library': 'Louise Riley Library'}\n",
      "{'library': 'Memorial Park Library'}\n",
      "{'library': 'Nose Hill Library'}\n",
      "{'library': 'Shawnessy Library'}\n",
      "{'library': 'Signal Hill Library'}\n",
      "{'library': 'Southwood Library'}\n",
      "{'library': 'Judith Umbach Library'}\n",
      "{'library': 'Village Square Library'}\n",
      "{'library': 'Crowfoot Library'}\n",
      "{'library': 'Country Hills Library'}\n",
      "{'library': 'Saddletowne Library'}\n",
      "{'library': 'Westbrook Library'}\n"
     ]
    },
    {
     "data": {
      "text/plain": [
       "True"
      ]
     },
     "execution_count": 31,
     "metadata": {},
     "output_type": "execute_result"
    }
   ],
   "source": [
    "# try changing the second argument in this method call.\n",
    "read_cursor = myconnection.cursor(buffered=True, dictionary=True)\n",
    "\n",
    "query_string = (\"SELECT library FROM library_locations;\")\n",
    "\n",
    "read_cursor.execute(query_string)\n",
    "\n",
    "for (library_value) in read_cursor:\n",
    "    print(library_value)\n",
    "    \n",
    "read_cursor.close()"
   ]
  },
  {
   "cell_type": "markdown",
   "metadata": {},
   "source": [
    "# Parameters in SQL"
   ]
  },
  {
   "cell_type": "code",
   "execution_count": 32,
   "metadata": {},
   "outputs": [
    {
     "name": "stdout",
     "output_type": "stream",
     "text": [
      "Number of libraries with square feet less than 0\n",
      "0\n",
      "Number of libraries with square feet less than 10000\n",
      "30\n",
      "Number of libraries with square feet less than 25000\n",
      "75\n",
      "Number of libraries with square feet less than 100000\n",
      "85\n"
     ]
    },
    {
     "data": {
      "text/plain": [
       "True"
      ]
     },
     "execution_count": 32,
     "metadata": {},
     "output_type": "execute_result"
    }
   ],
   "source": [
    "import datetime\n",
    "\n",
    "size_cursor = myconnection.cursor(buffered=True, dictionary=True)\n",
    "library_sizes = [0, 10000, 25000, 100000]\n",
    "\n",
    "query_string = (\"SELECT library FROM library_locations where square_feet < %s ;\")\n",
    "for current_size in library_sizes:\n",
    "    print (\"Number of libraries with square feet less than\", current_size)\n",
    "    size_cursor.execute(query_string, (current_size,))\n",
    "    print (size_cursor.rowcount)\n",
    "\n",
    "size_cursor.close()"
   ]
  },
  {
   "cell_type": "code",
   "execution_count": 33,
   "metadata": {},
   "outputs": [],
   "source": [
    "# CLEANUP: always remember to release the resources you have used on the server. Always run this cell last!\n",
    "myconnection.close()"
   ]
  }
 ],
 "metadata": {
  "kernelspec": {
   "display_name": "Python 3",
   "language": "python",
   "name": "python3"
  },
  "language_info": {
   "codemirror_mode": {
    "name": "ipython",
    "version": 3
   },
   "file_extension": ".py",
   "mimetype": "text/x-python",
   "name": "python",
   "nbconvert_exporter": "python",
   "pygments_lexer": "ipython3",
   "version": "3.10.11"
  }
 },
 "nbformat": 4,
 "nbformat_minor": 2
}
