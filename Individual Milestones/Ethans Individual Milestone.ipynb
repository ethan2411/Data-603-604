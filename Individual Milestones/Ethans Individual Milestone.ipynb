{
 "cells": [
  {
   "cell_type": "markdown",
   "metadata": {},
   "source": [
    "# Individual Assignment"
   ]
  },
  {
   "cell_type": "code",
   "execution_count": 1,
   "metadata": {},
   "outputs": [
    {
     "data": {
      "text/html": [
       "<div>\n",
       "<style scoped>\n",
       "    .dataframe tbody tr th:only-of-type {\n",
       "        vertical-align: middle;\n",
       "    }\n",
       "\n",
       "    .dataframe tbody tr th {\n",
       "        vertical-align: top;\n",
       "    }\n",
       "\n",
       "    .dataframe thead th {\n",
       "        text-align: right;\n",
       "    }\n",
       "</style>\n",
       "<table border=\"1\" class=\"dataframe\">\n",
       "  <thead>\n",
       "    <tr style=\"text-align: right;\">\n",
       "      <th></th>\n",
       "      <th>Sector</th>\n",
       "      <th>Community Name</th>\n",
       "      <th>Category</th>\n",
       "      <th>Crime Count</th>\n",
       "      <th>Date</th>\n",
       "      <th>Year</th>\n",
       "      <th>Month</th>\n",
       "      <th>ID</th>\n",
       "      <th>Resident Count</th>\n",
       "      <th>Community Center Point</th>\n",
       "      <th>Calgary Communities</th>\n",
       "      <th>Ward Boundaries 2013-2017</th>\n",
       "      <th>Ward Boundaries</th>\n",
       "      <th>City Quadrants</th>\n",
       "    </tr>\n",
       "  </thead>\n",
       "  <tbody>\n",
       "    <tr>\n",
       "      <th>0</th>\n",
       "      <td>NaN</td>\n",
       "      <td>14V</td>\n",
       "      <td>Break &amp; Enter - Commercial</td>\n",
       "      <td>1</td>\n",
       "      <td>2019/04</td>\n",
       "      <td>2019</td>\n",
       "      <td>APR</td>\n",
       "      <td>2019-APR-14V-Break &amp; Enter - Commercial</td>\n",
       "      <td>NaN</td>\n",
       "      <td>NaN</td>\n",
       "      <td>NaN</td>\n",
       "      <td>NaN</td>\n",
       "      <td>NaN</td>\n",
       "      <td>NaN</td>\n",
       "    </tr>\n",
       "    <tr>\n",
       "      <th>1</th>\n",
       "      <td>NaN</td>\n",
       "      <td>02A</td>\n",
       "      <td>Assault (Non-domestic)</td>\n",
       "      <td>1</td>\n",
       "      <td>2019/12</td>\n",
       "      <td>2019</td>\n",
       "      <td>DEC</td>\n",
       "      <td>2019-DEC-02A-Assault (Non-domestic)</td>\n",
       "      <td>NaN</td>\n",
       "      <td>NaN</td>\n",
       "      <td>NaN</td>\n",
       "      <td>NaN</td>\n",
       "      <td>NaN</td>\n",
       "      <td>NaN</td>\n",
       "    </tr>\n",
       "    <tr>\n",
       "      <th>2</th>\n",
       "      <td>NaN</td>\n",
       "      <td>10A</td>\n",
       "      <td>Theft FROM Vehicle</td>\n",
       "      <td>1</td>\n",
       "      <td>2019/01</td>\n",
       "      <td>2019</td>\n",
       "      <td>JAN</td>\n",
       "      <td>2019-JAN-10A-Theft FROM Vehicle</td>\n",
       "      <td>NaN</td>\n",
       "      <td>NaN</td>\n",
       "      <td>NaN</td>\n",
       "      <td>NaN</td>\n",
       "      <td>NaN</td>\n",
       "      <td>NaN</td>\n",
       "    </tr>\n",
       "    <tr>\n",
       "      <th>3</th>\n",
       "      <td>NaN</td>\n",
       "      <td>10C</td>\n",
       "      <td>Theft OF Vehicle</td>\n",
       "      <td>1</td>\n",
       "      <td>2019/11</td>\n",
       "      <td>2019</td>\n",
       "      <td>NOV</td>\n",
       "      <td>2019-NOV-10C-Theft OF Vehicle</td>\n",
       "      <td>NaN</td>\n",
       "      <td>NaN</td>\n",
       "      <td>NaN</td>\n",
       "      <td>NaN</td>\n",
       "      <td>NaN</td>\n",
       "      <td>NaN</td>\n",
       "    </tr>\n",
       "    <tr>\n",
       "      <th>4</th>\n",
       "      <td>NaN</td>\n",
       "      <td>14V</td>\n",
       "      <td>Theft FROM Vehicle</td>\n",
       "      <td>1</td>\n",
       "      <td>2019/01</td>\n",
       "      <td>2019</td>\n",
       "      <td>JAN</td>\n",
       "      <td>2019-JAN-14V-Theft FROM Vehicle</td>\n",
       "      <td>NaN</td>\n",
       "      <td>NaN</td>\n",
       "      <td>NaN</td>\n",
       "      <td>NaN</td>\n",
       "      <td>NaN</td>\n",
       "      <td>NaN</td>\n",
       "    </tr>\n",
       "  </tbody>\n",
       "</table>\n",
       "</div>"
      ],
      "text/plain": [
       "  Sector Community Name                    Category  Crime Count     Date  \\\n",
       "0    NaN            14V  Break & Enter - Commercial            1  2019/04   \n",
       "1    NaN            02A      Assault (Non-domestic)            1  2019/12   \n",
       "2    NaN            10A          Theft FROM Vehicle            1  2019/01   \n",
       "3    NaN            10C            Theft OF Vehicle            1  2019/11   \n",
       "4    NaN            14V          Theft FROM Vehicle            1  2019/01   \n",
       "\n",
       "   Year Month                                       ID  Resident Count  \\\n",
       "0  2019   APR  2019-APR-14V-Break & Enter - Commercial             NaN   \n",
       "1  2019   DEC      2019-DEC-02A-Assault (Non-domestic)             NaN   \n",
       "2  2019   JAN          2019-JAN-10A-Theft FROM Vehicle             NaN   \n",
       "3  2019   NOV            2019-NOV-10C-Theft OF Vehicle             NaN   \n",
       "4  2019   JAN          2019-JAN-14V-Theft FROM Vehicle             NaN   \n",
       "\n",
       "  Community Center Point  Calgary Communities  Ward Boundaries 2013-2017  \\\n",
       "0                    NaN                  NaN                        NaN   \n",
       "1                    NaN                  NaN                        NaN   \n",
       "2                    NaN                  NaN                        NaN   \n",
       "3                    NaN                  NaN                        NaN   \n",
       "4                    NaN                  NaN                        NaN   \n",
       "\n",
       "   Ward Boundaries  City Quadrants  \n",
       "0              NaN             NaN  \n",
       "1              NaN             NaN  \n",
       "2              NaN             NaN  \n",
       "3              NaN             NaN  \n",
       "4              NaN             NaN  "
      ]
     },
     "execution_count": 1,
     "metadata": {},
     "output_type": "execute_result"
    }
   ],
   "source": [
    "import pandas as pd\n",
    "import numpy as np\n",
    "\n",
    "crimestats = pd.read_csv(\"https://raw.githubusercontent.com/ethan2411/Data-603-604/main/604%20Data/Community_Crime_Statistics.csv\")\n",
    "crimestats.head(5)"
   ]
  },
  {
   "cell_type": "code",
   "execution_count": 2,
   "metadata": {},
   "outputs": [],
   "source": [
    "df1 = crimestats.drop('Resident Count', axis=1)\n",
    "df1.columns = [\"Sector\", \"CommunityName\",\"Category\",\"CrimeCount\",\"Date\", \"Year\", \"Month\", \"ID\",\"CommunityCenterPoint\",\"CalgaryCommunities\",\"WardBoundaries20132017\", \"WardBoundaries\", \"CityQuadrants\"]"
   ]
  },
  {
   "cell_type": "code",
   "execution_count": 3,
   "metadata": {},
   "outputs": [
    {
     "data": {
      "text/html": [
       "<div>\n",
       "<style scoped>\n",
       "    .dataframe tbody tr th:only-of-type {\n",
       "        vertical-align: middle;\n",
       "    }\n",
       "\n",
       "    .dataframe tbody tr th {\n",
       "        vertical-align: top;\n",
       "    }\n",
       "\n",
       "    .dataframe thead th {\n",
       "        text-align: right;\n",
       "    }\n",
       "</style>\n",
       "<table border=\"1\" class=\"dataframe\">\n",
       "  <thead>\n",
       "    <tr style=\"text-align: right;\">\n",
       "      <th></th>\n",
       "      <th>Sector</th>\n",
       "      <th>CommunityName</th>\n",
       "      <th>Category</th>\n",
       "      <th>CrimeCount</th>\n",
       "      <th>Date</th>\n",
       "      <th>Year</th>\n",
       "      <th>Month</th>\n",
       "      <th>ID</th>\n",
       "      <th>CommunityCenterPoint</th>\n",
       "      <th>CalgaryCommunities</th>\n",
       "      <th>WardBoundaries20132017</th>\n",
       "      <th>WardBoundaries</th>\n",
       "      <th>CityQuadrants</th>\n",
       "    </tr>\n",
       "  </thead>\n",
       "  <tbody>\n",
       "    <tr>\n",
       "      <th>8</th>\n",
       "      <td>WEST</td>\n",
       "      <td>01C</td>\n",
       "      <td>Theft FROM Vehicle</td>\n",
       "      <td>1</td>\n",
       "      <td>2019/08</td>\n",
       "      <td>2019</td>\n",
       "      <td>AUG</td>\n",
       "      <td>2019-AUG-01C-Theft FROM Vehicle</td>\n",
       "      <td>POINT (-114.2380197 51.08500322)</td>\n",
       "      <td>291.0</td>\n",
       "      <td>9.0</td>\n",
       "      <td>13.0</td>\n",
       "      <td>1.0</td>\n",
       "    </tr>\n",
       "    <tr>\n",
       "      <th>10</th>\n",
       "      <td>SOUTH</td>\n",
       "      <td>PARKLAND</td>\n",
       "      <td>Theft OF Vehicle</td>\n",
       "      <td>1</td>\n",
       "      <td>2019/01</td>\n",
       "      <td>2019</td>\n",
       "      <td>JAN</td>\n",
       "      <td>2019-JAN-PARKLAND-Theft OF Vehicle</td>\n",
       "      <td>POINT (-114.0285394 50.9211972)</td>\n",
       "      <td>117.0</td>\n",
       "      <td>13.0</td>\n",
       "      <td>6.0</td>\n",
       "      <td>3.0</td>\n",
       "    </tr>\n",
       "    <tr>\n",
       "      <th>11</th>\n",
       "      <td>SOUTH</td>\n",
       "      <td>SOMERSET</td>\n",
       "      <td>Street Robbery</td>\n",
       "      <td>1</td>\n",
       "      <td>2019/02</td>\n",
       "      <td>2019</td>\n",
       "      <td>FEB</td>\n",
       "      <td>2019-FEB-SOMERSET-Street Robbery</td>\n",
       "      <td>POINT (-114.0813075 50.89869686)</td>\n",
       "      <td>55.0</td>\n",
       "      <td>6.0</td>\n",
       "      <td>5.0</td>\n",
       "      <td>1.0</td>\n",
       "    </tr>\n",
       "    <tr>\n",
       "      <th>12</th>\n",
       "      <td>WEST</td>\n",
       "      <td>LAKEVIEW</td>\n",
       "      <td>Theft OF Vehicle</td>\n",
       "      <td>1</td>\n",
       "      <td>2019/11</td>\n",
       "      <td>2019</td>\n",
       "      <td>NOV</td>\n",
       "      <td>2019-NOV-LAKEVIEW-Theft OF Vehicle</td>\n",
       "      <td>POINT (-114.1296334 50.99977294)</td>\n",
       "      <td>129.0</td>\n",
       "      <td>5.0</td>\n",
       "      <td>8.0</td>\n",
       "      <td>1.0</td>\n",
       "    </tr>\n",
       "    <tr>\n",
       "      <th>13</th>\n",
       "      <td>NORTH</td>\n",
       "      <td>STONEY 1</td>\n",
       "      <td>Assault (Non-domestic)</td>\n",
       "      <td>1</td>\n",
       "      <td>2019/09</td>\n",
       "      <td>2019</td>\n",
       "      <td>SEP</td>\n",
       "      <td>2019-SEP-STONEY 1-Assault (Non-domestic)</td>\n",
       "      <td>POINT (-114.0246985 51.16118788)</td>\n",
       "      <td>163.0</td>\n",
       "      <td>12.0</td>\n",
       "      <td>11.0</td>\n",
       "      <td>4.0</td>\n",
       "    </tr>\n",
       "  </tbody>\n",
       "</table>\n",
       "</div>"
      ],
      "text/plain": [
       "   Sector CommunityName                Category  CrimeCount     Date  Year  \\\n",
       "8    WEST           01C      Theft FROM Vehicle           1  2019/08  2019   \n",
       "10  SOUTH      PARKLAND        Theft OF Vehicle           1  2019/01  2019   \n",
       "11  SOUTH      SOMERSET          Street Robbery           1  2019/02  2019   \n",
       "12   WEST      LAKEVIEW        Theft OF Vehicle           1  2019/11  2019   \n",
       "13  NORTH      STONEY 1  Assault (Non-domestic)           1  2019/09  2019   \n",
       "\n",
       "   Month                                        ID  \\\n",
       "8    AUG           2019-AUG-01C-Theft FROM Vehicle   \n",
       "10   JAN        2019-JAN-PARKLAND-Theft OF Vehicle   \n",
       "11   FEB          2019-FEB-SOMERSET-Street Robbery   \n",
       "12   NOV        2019-NOV-LAKEVIEW-Theft OF Vehicle   \n",
       "13   SEP  2019-SEP-STONEY 1-Assault (Non-domestic)   \n",
       "\n",
       "                CommunityCenterPoint  CalgaryCommunities  \\\n",
       "8   POINT (-114.2380197 51.08500322)               291.0   \n",
       "10   POINT (-114.0285394 50.9211972)               117.0   \n",
       "11  POINT (-114.0813075 50.89869686)                55.0   \n",
       "12  POINT (-114.1296334 50.99977294)               129.0   \n",
       "13  POINT (-114.0246985 51.16118788)               163.0   \n",
       "\n",
       "    WardBoundaries20132017  WardBoundaries  CityQuadrants  \n",
       "8                      9.0            13.0            1.0  \n",
       "10                    13.0             6.0            3.0  \n",
       "11                     6.0             5.0            1.0  \n",
       "12                     5.0             8.0            1.0  \n",
       "13                    12.0            11.0            4.0  "
      ]
     },
     "execution_count": 3,
     "metadata": {},
     "output_type": "execute_result"
    }
   ],
   "source": [
    "df1.dropna(inplace=True)\n",
    "df1.head(5)"
   ]
  },
  {
   "cell_type": "code",
   "execution_count": 4,
   "metadata": {},
   "outputs": [
    {
     "name": "stdout",
     "output_type": "stream",
     "text": [
      "11857\n",
      "Sector                    0\n",
      "CommunityName             0\n",
      "Category                  0\n",
      "CrimeCount                0\n",
      "Date                      0\n",
      "Year                      0\n",
      "Month                     0\n",
      "ID                        0\n",
      "CommunityCenterPoint      0\n",
      "CalgaryCommunities        0\n",
      "WardBoundaries20132017    0\n",
      "WardBoundaries            0\n",
      "CityQuadrants             0\n",
      "dtype: int64\n"
     ]
    }
   ],
   "source": [
    "#print the sum of NaN values in each column, will have to deal with those\n",
    "print(len(crimestats))\n",
    "print(df1.isna().sum())"
   ]
  },
  {
   "cell_type": "markdown",
   "metadata": {},
   "source": [
    "### Connecting to database"
   ]
  },
  {
   "cell_type": "code",
   "execution_count": 6,
   "metadata": {},
   "outputs": [
    {
     "data": {
      "text/plain": [
       "<mysql.connector.connection.MySQLConnection at 0x1a14220b100>"
      ]
     },
     "execution_count": 6,
     "metadata": {},
     "output_type": "execute_result"
    }
   ],
   "source": [
    "#in cmd do mysql.connector or mysql-connector-python\n",
    "import mysql.connector\n",
    "from mysql.connector import errorcode\n",
    "\n",
    "filepath = \"C:/Users/ethan/Downloads/Data 604/Term Project/password.txt\"\n",
    "\n",
    "with open(filepath) as f:\n",
    "    passw = f.read()\n",
    "    \n",
    "# attempt a connection\n",
    "myconnection = mysql.connector.connect(user='ethan_scott', \n",
    "                                       password=passw,\n",
    "                                       host='datasciencedb2.ucalgary.ca', \n",
    "                                       database='ethan_scott',\n",
    "                                       allow_local_infile=True)\n",
    "myconnection"
   ]
  },
  {
   "cell_type": "markdown",
   "metadata": {},
   "source": [
    "### Creating table in SQL"
   ]
  },
  {
   "cell_type": "code",
   "execution_count": 31,
   "metadata": {},
   "outputs": [
    {
     "name": "stdout",
     "output_type": "stream",
     "text": [
      "table created successfully!\n"
     ]
    },
    {
     "data": {
      "text/plain": [
       "True"
      ]
     },
     "execution_count": 31,
     "metadata": {},
     "output_type": "execute_result"
    }
   ],
   "source": [
    "# CREATE TABLE STATEMENT\n",
    "create_statement = '''create table ethan_scott.crimestats (\n",
    "    Sector varchar(10),\n",
    "    CommunityName varchar(250) NOT NULL,\n",
    "    Category varchar(40),\n",
    "    CrimeCount int,\n",
    "    Date varchar(7),\n",
    "    Year varchar(4),\n",
    "    Month varchar(3),\n",
    "    ID varchar(100),\n",
    "    CommunityCenterPoint blob,\n",
    "    CalgaryCommunities int,\n",
    "    WardBoundaries20132017 int,\n",
    "    WardBoundaries int,\n",
    "    CityQuadrants int\n",
    "    );'''\n",
    "\n",
    "# now we'll create a cursor and run our create statement\n",
    "create_cursor = myconnection.cursor()\n",
    "try:\n",
    "    create_cursor.execute(create_statement)\n",
    "except mysql.connector.Error as err:\n",
    "    if err.errno == errorcode.ER_TABLE_EXISTS_ERROR:\n",
    "        print(\"Ooops! We already have that table\")\n",
    "    else:\n",
    "        print(err.msg)\n",
    "else:\n",
    "    print(\"table created successfully!\")\n",
    "\n",
    "create_cursor.close()"
   ]
  },
  {
   "cell_type": "markdown",
   "metadata": {},
   "source": [
    "# Using Python to insert data\n"
   ]
  },
  {
   "cell_type": "code",
   "execution_count": 32,
   "metadata": {
    "scrolled": true
   },
   "outputs": [
    {
     "data": {
      "text/plain": [
       "True"
      ]
     },
     "execution_count": 32,
     "metadata": {},
     "output_type": "execute_result"
    }
   ],
   "source": [
    "insertCursor = myconnection.cursor()\n",
    "\n",
    "columnString = \"`,`\".join([str(currentColumn) for currentColumn in df1.columns.tolist()])\n",
    "#print (columnString)\n",
    "\n",
    "# inserting rows one by one from the DataFrame is sufficient for now\n",
    "for i, currentRow in df1.iterrows():\n",
    "    #print (tuple(currentRow))\n",
    "    insertCommand = \"INSERT INTO `crimestats` (`\" + columnString + \"`) VALUES (\" + \"%s,\"*(len(currentRow)-1) + \"%s)\"\n",
    "    insertCursor.execute(insertCommand, tuple(currentRow))\n",
    "    \n",
    "myconnection.commit()\n",
    "\n",
    "insertCursor.close()"
   ]
  },
  {
   "cell_type": "markdown",
   "metadata": {},
   "source": [
    "## Deleting tables"
   ]
  },
  {
   "cell_type": "code",
   "execution_count": 30,
   "metadata": {},
   "outputs": [
    {
     "data": {
      "text/plain": [
       "True"
      ]
     },
     "execution_count": 30,
     "metadata": {},
     "output_type": "execute_result"
    }
   ],
   "source": [
    "#Use the DELETE statement without specifying a WHERE clause\n",
    "# If the statement executes, the table continues to exist (still can insert rows into it), but it's empty. \n",
    "# All existing views and authorizations on the table remain intact when using DELETE.\n",
    "\n",
    "# uncomment if you would like to remove table\n",
    "deletecursor = myconnection.cursor()\n",
    "# Warning - if you DROP the table it will be removed completely and it will need to be created from scratch\n",
    "sql = \"DROP TABLE IF EXISTS crimestats;\"\n",
    "#sql = \"DELETE FROM crimestats;\"\n",
    "deletecursor.execute(sql)\n",
    "deletecursor.close()"
   ]
  },
  {
   "cell_type": "markdown",
   "metadata": {},
   "source": [
    "# Using Python to retrieve data\n",
    "\n",
    "You can also use cursors to read data from a database table. It is helpful to specify what kind of result set you would like the cursor to return. Try each of the following for the second arguement:\n",
    "* `raw=True`\n",
    "* `dictionary=True`\n",
    "* `named_tuple=True`"
   ]
  },
  {
   "cell_type": "code",
   "execution_count": 31,
   "metadata": {},
   "outputs": [
    {
     "name": "stdout",
     "output_type": "stream",
     "text": [
      "{'library': 'W.R. Castell Central Library'}\n",
      "{'library': 'Alexander Calhoun Library'}\n",
      "{'library': 'Bowness Library'}\n",
      "{'library': 'Fish Creek Library'}\n",
      "{'library': 'Forest Lawn Library'}\n",
      "{'library': 'Glenmore Square Library'}\n",
      "{'library': 'Louise Riley Library'}\n",
      "{'library': 'Memorial Park Library'}\n",
      "{'library': 'Nose Hill Library'}\n",
      "{'library': 'Shawnessy Library'}\n",
      "{'library': 'Signal Hill Library'}\n",
      "{'library': 'Southwood Library'}\n",
      "{'library': 'Judith Umbach Library'}\n",
      "{'library': 'Village Square Library'}\n",
      "{'library': 'Crowfoot Library'}\n",
      "{'library': 'Country Hills Library'}\n",
      "{'library': 'Saddletowne Library'}\n",
      "{'library': 'Westbrook Library'}\n",
      "{'library': 'W.R. Castell Central Library'}\n",
      "{'library': 'Alexander Calhoun Library'}\n",
      "{'library': 'Bowness Library'}\n",
      "{'library': 'Fish Creek Library'}\n",
      "{'library': 'Forest Lawn Library'}\n",
      "{'library': 'Glenmore Square Library'}\n",
      "{'library': 'Louise Riley Library'}\n",
      "{'library': 'Memorial Park Library'}\n",
      "{'library': 'Nose Hill Library'}\n",
      "{'library': 'Shawnessy Library'}\n",
      "{'library': 'Signal Hill Library'}\n",
      "{'library': 'Southwood Library'}\n",
      "{'library': 'Judith Umbach Library'}\n",
      "{'library': 'Village Square Library'}\n",
      "{'library': 'Crowfoot Library'}\n",
      "{'library': 'Country Hills Library'}\n",
      "{'library': 'Saddletowne Library'}\n",
      "{'library': 'Westbrook Library'}\n",
      "{'library': 'W.R. Castell Central Library'}\n",
      "{'library': 'Alexander Calhoun Library'}\n",
      "{'library': 'Bowness Library'}\n",
      "{'library': 'Fish Creek Library'}\n",
      "{'library': 'Forest Lawn Library'}\n",
      "{'library': 'Glenmore Square Library'}\n",
      "{'library': 'Louise Riley Library'}\n",
      "{'library': 'Memorial Park Library'}\n",
      "{'library': 'Nose Hill Library'}\n",
      "{'library': 'Shawnessy Library'}\n",
      "{'library': 'Signal Hill Library'}\n",
      "{'library': 'Southwood Library'}\n",
      "{'library': 'Judith Umbach Library'}\n",
      "{'library': 'Village Square Library'}\n",
      "{'library': 'Crowfoot Library'}\n",
      "{'library': 'Country Hills Library'}\n",
      "{'library': 'Saddletowne Library'}\n",
      "{'library': 'Westbrook Library'}\n",
      "{'library': 'W.R. Castell Central Library'}\n",
      "{'library': 'Alexander Calhoun Library'}\n",
      "{'library': 'Bowness Library'}\n",
      "{'library': 'Fish Creek Library'}\n",
      "{'library': 'Forest Lawn Library'}\n",
      "{'library': 'Glenmore Square Library'}\n",
      "{'library': 'Louise Riley Library'}\n",
      "{'library': 'Memorial Park Library'}\n",
      "{'library': 'Nose Hill Library'}\n",
      "{'library': 'Shawnessy Library'}\n",
      "{'library': 'Signal Hill Library'}\n",
      "{'library': 'Southwood Library'}\n",
      "{'library': 'Judith Umbach Library'}\n",
      "{'library': 'Village Square Library'}\n",
      "{'library': 'Crowfoot Library'}\n",
      "{'library': 'Country Hills Library'}\n",
      "{'library': 'Saddletowne Library'}\n",
      "{'library': 'Westbrook Library'}\n",
      "{'library': 'W.R. Castell Central Library'}\n",
      "{'library': 'Alexander Calhoun Library'}\n",
      "{'library': 'Bowness Library'}\n",
      "{'library': 'Fish Creek Library'}\n",
      "{'library': 'Forest Lawn Library'}\n",
      "{'library': 'Glenmore Square Library'}\n",
      "{'library': 'Louise Riley Library'}\n",
      "{'library': 'Memorial Park Library'}\n",
      "{'library': 'Nose Hill Library'}\n",
      "{'library': 'Shawnessy Library'}\n",
      "{'library': 'Signal Hill Library'}\n",
      "{'library': 'Southwood Library'}\n",
      "{'library': 'Judith Umbach Library'}\n",
      "{'library': 'Village Square Library'}\n",
      "{'library': 'Crowfoot Library'}\n",
      "{'library': 'Country Hills Library'}\n",
      "{'library': 'Saddletowne Library'}\n",
      "{'library': 'Westbrook Library'}\n"
     ]
    },
    {
     "data": {
      "text/plain": [
       "True"
      ]
     },
     "execution_count": 31,
     "metadata": {},
     "output_type": "execute_result"
    }
   ],
   "source": [
    "# try changing the second argument in this method call.\n",
    "read_cursor = myconnection.cursor(buffered=True, dictionary=True)\n",
    "\n",
    "query_string = (\"SELECT library FROM library_locations;\")\n",
    "\n",
    "read_cursor.execute(query_string)\n",
    "\n",
    "for (library_value) in read_cursor:\n",
    "    print(library_value)\n",
    "    \n",
    "read_cursor.close()"
   ]
  },
  {
   "cell_type": "markdown",
   "metadata": {},
   "source": [
    "# Parameters in SQL"
   ]
  },
  {
   "cell_type": "code",
   "execution_count": 32,
   "metadata": {},
   "outputs": [
    {
     "name": "stdout",
     "output_type": "stream",
     "text": [
      "Number of libraries with square feet less than 0\n",
      "0\n",
      "Number of libraries with square feet less than 10000\n",
      "30\n",
      "Number of libraries with square feet less than 25000\n",
      "75\n",
      "Number of libraries with square feet less than 100000\n",
      "85\n"
     ]
    },
    {
     "data": {
      "text/plain": [
       "True"
      ]
     },
     "execution_count": 32,
     "metadata": {},
     "output_type": "execute_result"
    }
   ],
   "source": [
    "import datetime\n",
    "\n",
    "size_cursor = myconnection.cursor(buffered=True, dictionary=True)\n",
    "library_sizes = [0, 10000, 25000, 100000]\n",
    "\n",
    "query_string = (\"SELECT library FROM library_locations where square_feet < %s ;\")\n",
    "for current_size in library_sizes:\n",
    "    print (\"Number of libraries with square feet less than\", current_size)\n",
    "    size_cursor.execute(query_string, (current_size,))\n",
    "    print (size_cursor.rowcount)\n",
    "\n",
    "size_cursor.close()"
   ]
  },
  {
   "cell_type": "code",
   "execution_count": 33,
   "metadata": {},
   "outputs": [],
   "source": [
    "# CLEANUP: always remember to release the resources you have used on the server. Always run this cell last!\n",
    "myconnection.close()"
   ]
  }
 ],
 "metadata": {
  "kernelspec": {
   "display_name": "Python 3",
   "language": "python",
   "name": "python3"
  },
  "language_info": {
   "codemirror_mode": {
    "name": "ipython",
    "version": 3
   },
   "file_extension": ".py",
   "mimetype": "text/x-python",
   "name": "python",
   "nbconvert_exporter": "python",
   "pygments_lexer": "ipython3",
   "version": "3.10.11"
  }
 },
 "nbformat": 4,
 "nbformat_minor": 2
}
